{
 "cells": [
  {
   "cell_type": "code",
   "execution_count": 5,
   "metadata": {},
   "outputs": [],
   "source": [
    "import os\n",
    "import cv2\n",
    "import numpy as np\n",
    "import matplotlib.pyplot as plt\n",
    "from sklearn.model_selection import train_test_split\n",
    "from sklearn import svm\n",
    "from sklearn.metrics import accuracy_score,confusion_matrix\n",
    "from sklearn.preprocessing import StandardScaler\n",
    "from sklearn.decomposition import PCA\n",
    "from sklearn.pipeline import make_pipeline"
   ]
  },
  {
   "cell_type": "code",
   "execution_count": 6,
   "metadata": {},
   "outputs": [],
   "source": [
    "def load_and_preprocess_data(data_dir, image_size):\n",
    "    X, y = [], []\n",
    "\n",
    "    for category in os.listdir(data_dir):\n",
    "        category_path = os.path.join(data_dir, category)\n",
    "        if os.path.isdir(category_path):\n",
    "            label = 0 if category == 'cats' else 1 \n",
    "\n",
    "            for filename in os.listdir(category_path):\n",
    "                img_path = os.path.join(category_path, filename)\n",
    "                img = cv2.imread(img_path)\n",
    "                img = cv2.resize(img, (image_size, image_size))  # Resize images to a fixed size\n",
    "                img = cv2.cvtColor(img, cv2.COLOR_BGR2GRAY)  # Convert to grayscale if needed\n",
    "\n",
    "                # Flatten the 2D image array into a 1D array\n",
    "                img_flat = img.flatten()\n",
    "\n",
    "                X.append(img_flat)\n",
    "                y.append(label)\n",
    "\n",
    "    return np.array(X), np.array(y)"
   ]
  },
  {
   "cell_type": "code",
   "execution_count": 7,
   "metadata": {},
   "outputs": [
    {
     "name": "stdout",
     "output_type": "stream",
     "text": [
      "Unique Labels: [0 1]\n"
     ]
    }
   ],
   "source": [
    "data_dir='dogs-vs-cats/train'\n",
    "image_size=64\n",
    "\n",
    "X,y=load_and_preprocess_data(data_dir,image_size)\n",
    "unique_labels = np.unique(y)\n",
    "print(f'Unique Labels: {unique_labels}')"
   ]
  },
  {
   "cell_type": "code",
   "execution_count": 8,
   "metadata": {},
   "outputs": [],
   "source": [
    "\n",
    "X_train,X_test,y_train,y_test=train_test_split(X,y,test_size=0.2,random_state=42)\n",
    "\n",
    "clf=make_pipeline(StandardScaler(),PCA(n_components=50),svm.SVC(kernel='linear',C=1))\n",
    "clf.fit(X_train,y_train)\n",
    "y_pred=clf.predict(X_test)\n",
    "\n",
    "accuracy=accuracy_score(y_test,y_pred)\n",
    "print(f'Accuracy: {accuracy}')\n",
    "\n",
    "conf_mat=confusion_matrix(y_test,y_pred)\n",
    "print(f'Confusion Matrix: \\n {conf_mat}')"
   ]
  }
 ],
 "metadata": {
  "kernelspec": {
   "display_name": "Python 3",
   "language": "python",
   "name": "python3"
  },
  "language_info": {
   "codemirror_mode": {
    "name": "ipython",
    "version": 3
   },
   "file_extension": ".py",
   "mimetype": "text/x-python",
   "name": "python",
   "nbconvert_exporter": "python",
   "pygments_lexer": "ipython3",
   "version": "3.11.5"
  }
 },
 "nbformat": 4,
 "nbformat_minor": 2
}
